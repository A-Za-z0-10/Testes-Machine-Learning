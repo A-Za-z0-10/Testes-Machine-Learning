{
 "cells": [
  {
   "cell_type": "markdown",
   "metadata": {},
   "source": [
    "Teoria sobre arvores de decisão<br>\n",
    "Arvores de decisão com scikit-learn - base risco de credito<br>\n",
    "Arvore de decisão com scikit - learn - base credito<br>\n",
    "Arvore de decisão com scikit - learn - base censo<br>\n",
    "\n",
    "Poda em arvores de decisao <br>\n",
    "Random Forests(flrestas randomicas)<br>\n",
    "\n",
    "Objetivo deste algoritimo e fazer a leitura da base de dados historica e construir uma arvore de descisão"
   ]
  },
  {
   "cell_type": "code",
   "execution_count": null,
   "metadata": {
    "collapsed": true
   },
   "outputs": [],
   "source": []
  }
 ],
 "metadata": {
  "kernelspec": {
   "display_name": "Python 2",
   "language": "python",
   "name": "python2"
  },
  "language_info": {
   "codemirror_mode": {
    "name": "ipython",
    "version": 2
   },
   "file_extension": ".py",
   "mimetype": "text/x-python",
   "name": "python",
   "nbconvert_exporter": "python",
   "pygments_lexer": "ipython2",
   "version": "2.7.13"
  }
 },
 "nbformat": 4,
 "nbformat_minor": 2
}
